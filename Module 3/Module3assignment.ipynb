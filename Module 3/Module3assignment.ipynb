{
 "cells": [
  {
   "cell_type": "markdown",
   "metadata": {},
   "source": [
    "# Assignment 3: Control Flow and Functions"
   ]
  },
  {
   "cell_type": "markdown",
   "metadata": {},
   "source": [
    "*September 23, 2019*"
   ]
  },
  {
   "cell_type": "markdown",
   "metadata": {},
   "source": [
    "#### Esin Alpturk"
   ]
  },
  {
   "cell_type": "markdown",
   "metadata": {},
   "source": [
    "I will begin by creating a list of all lower case letters."
   ]
  },
  {
   "cell_type": "code",
   "execution_count": 1,
   "metadata": {},
   "outputs": [],
   "source": [
    "import string\n",
    "psyduck = list(string.ascii_lowercase)"
   ]
  },
  {
   "cell_type": "markdown",
   "metadata": {},
   "source": [
    "Let's check how our list looks..."
   ]
  },
  {
   "cell_type": "code",
   "execution_count": 2,
   "metadata": {},
   "outputs": [
    {
     "data": {
      "text/plain": [
       "['a',\n",
       " 'b',\n",
       " 'c',\n",
       " 'd',\n",
       " 'e',\n",
       " 'f',\n",
       " 'g',\n",
       " 'h',\n",
       " 'i',\n",
       " 'j',\n",
       " 'k',\n",
       " 'l',\n",
       " 'm',\n",
       " 'n',\n",
       " 'o',\n",
       " 'p',\n",
       " 'q',\n",
       " 'r',\n",
       " 's',\n",
       " 't',\n",
       " 'u',\n",
       " 'v',\n",
       " 'w',\n",
       " 'x',\n",
       " 'y',\n",
       " 'z']"
      ]
     },
     "execution_count": 2,
     "metadata": {},
     "output_type": "execute_result"
    }
   ],
   "source": [
    "psyduck"
   ]
  },
  {
   "cell_type": "markdown",
   "metadata": {},
   "source": [
    "All look good! Now let's create a list of the numbers from 1 to 26."
   ]
  },
  {
   "cell_type": "code",
   "execution_count": 3,
   "metadata": {},
   "outputs": [
    {
     "data": {
      "text/plain": [
       "[1,\n",
       " 2,\n",
       " 3,\n",
       " 4,\n",
       " 5,\n",
       " 6,\n",
       " 7,\n",
       " 8,\n",
       " 9,\n",
       " 10,\n",
       " 11,\n",
       " 12,\n",
       " 13,\n",
       " 14,\n",
       " 15,\n",
       " 16,\n",
       " 17,\n",
       " 18,\n",
       " 19,\n",
       " 20,\n",
       " 21,\n",
       " 22,\n",
       " 23,\n",
       " 24,\n",
       " 25,\n",
       " 26]"
      ]
     },
     "execution_count": 3,
     "metadata": {},
     "output_type": "execute_result"
    }
   ],
   "source": [
    "psyducknumbers = list(range(1, 27))\n",
    "psyducknumbers"
   ]
  },
  {
   "cell_type": "markdown",
   "metadata": {},
   "source": [
    "Next, I will use a for loop to print \" ___ is a multiple of 4\", substituting the appropriate number, every time the number in my list of numbers is a multiple of 4."
   ]
  },
  {
   "cell_type": "code",
   "execution_count": 4,
   "metadata": {},
   "outputs": [
    {
     "name": "stdout",
     "output_type": "stream",
     "text": [
      "4 is a multiple of 4\n",
      "8 is a multiple of 4\n",
      "12 is a multiple of 4\n",
      "16 is a multiple of 4\n",
      "20 is a multiple of 4\n",
      "24 is a multiple of 4\n"
     ]
    }
   ],
   "source": [
    "for num in psyducknumbers:\n",
    "    if num % 4 == 0:\n",
    "        print(num, 'is', 'a', 'multiple', 'of', '4')"
   ]
  },
  {
   "cell_type": "markdown",
   "metadata": {},
   "source": [
    "Now, I will print both lists and show their types."
   ]
  },
  {
   "cell_type": "code",
   "execution_count": 5,
   "metadata": {},
   "outputs": [
    {
     "name": "stdout",
     "output_type": "stream",
     "text": [
      "['a', 'b', 'c', 'd', 'e', 'f', 'g', 'h', 'i', 'j', 'k', 'l', 'm', 'n', 'o', 'p', 'q', 'r', 's', 't', 'u', 'v', 'w', 'x', 'y', 'z']\n",
      "\n",
      "\n",
      "[1, 2, 3, 4, 5, 6, 7, 8, 9, 10, 11, 12, 13, 14, 15, 16, 17, 18, 19, 20, 21, 22, 23, 24, 25, 26]\n",
      "\n",
      "\n",
      "psyduck is of type  <class 'list'>\n",
      "\n",
      "\n",
      "psyducknumbers is of type  <class 'list'>\n"
     ]
    }
   ],
   "source": [
    "print(psyduck)\n",
    "print(\"\\n\")\n",
    "print(psyducknumbers)\n",
    "print(\"\\n\")\n",
    "print(\"psyduck is of type \", type(psyduck))\n",
    "print(\"\\n\")\n",
    "print(\"psyducknumbers is of type \", type(psyducknumbers))"
   ]
  },
  {
   "cell_type": "markdown",
   "metadata": {},
   "source": [
    "Next, I am going to create a list of tuples, where each tuple consists of the lower case letter and its numerical equivalent."
   ]
  },
  {
   "cell_type": "code",
   "execution_count": 6,
   "metadata": {},
   "outputs": [
    {
     "name": "stdout",
     "output_type": "stream",
     "text": [
      "[('a', 1), ('b', 2), ('c', 3), ('d', 4), ('e', 5), ('f', 6), ('g', 7), ('h', 8), ('i', 9), ('j', 10), ('k', 11), ('l', 12), ('m', 13), ('n', 14), ('o', 15), ('p', 16), ('q', 17), ('r', 18), ('s', 19), ('t', 20), ('u', 21), ('v', 22), ('w', 23), ('x', 24), ('y', 25), ('z', 26)]\n",
      "\n",
      "psyduck_tuples is of type  <class 'list'>\n",
      "\n",
      "the first element of psyduck_tuples is of type <class 'tuple'>\n"
     ]
    }
   ],
   "source": [
    "psyduck_tuples = list(zip(psyduck, psyducknumbers))\n",
    "print(psyduck_tuples)\n",
    "print(\"\\npsyduck_tuples is of type \", type(psyduck_tuples))\n",
    "print(\"\\nthe first element of psyduck_tuples is of type \" + str(type(psyduck_tuples[0])))"
   ]
  },
  {
   "cell_type": "markdown",
   "metadata": {},
   "source": [
    "In the following part, by using list comprehension, I will create a list of letters which have ordinal values (1-26) that are multiples of 4."
   ]
  },
  {
   "cell_type": "code",
   "execution_count": 7,
   "metadata": {},
   "outputs": [],
   "source": [
    "divisible_by_four = [letter for letter, num in psyduck_tuples if num % 4 == 0]"
   ]
  },
  {
   "cell_type": "code",
   "execution_count": 8,
   "metadata": {},
   "outputs": [
    {
     "data": {
      "text/plain": [
       "['d', 'h', 'l', 'p', 't', 'x']"
      ]
     },
     "execution_count": 8,
     "metadata": {},
     "output_type": "execute_result"
    }
   ],
   "source": [
    "divisible_by_four"
   ]
  },
  {
   "cell_type": "markdown",
   "metadata": {},
   "source": [
    "Now, I will create a loop and show the unicode value for each letter, using ord()."
   ]
  },
  {
   "cell_type": "code",
   "execution_count": 9,
   "metadata": {},
   "outputs": [
    {
     "name": "stdout",
     "output_type": "stream",
     "text": [
      "97\n",
      "98\n",
      "99\n",
      "100\n",
      "101\n",
      "102\n",
      "103\n",
      "104\n",
      "105\n",
      "106\n",
      "107\n",
      "108\n",
      "109\n",
      "110\n",
      "111\n",
      "112\n",
      "113\n",
      "114\n",
      "115\n",
      "116\n",
      "117\n",
      "118\n",
      "119\n",
      "120\n",
      "121\n",
      "122\n"
     ]
    }
   ],
   "source": [
    "for letters in psyduck:\n",
    "    oo = ord(letters)\n",
    "    print(oo)"
   ]
  },
  {
   "cell_type": "markdown",
   "metadata": {},
   "source": [
    "Up next, for each letter of the alphabet, I will come up with a unique integer which is the calculated combination of the unicode value and the ordinal position of the letter in the alphabet."
   ]
  },
  {
   "cell_type": "code",
   "execution_count": 237,
   "metadata": {},
   "outputs": [],
   "source": [
    "stuff = []\n",
    "for k,v in psyduck_tuples:\n",
    "    stuff.append(ord(k) + v)"
   ]
  },
  {
   "cell_type": "markdown",
   "metadata": {},
   "source": [
    "Let's check the the size of the set we created... "
   ]
  },
  {
   "cell_type": "code",
   "execution_count": 238,
   "metadata": {},
   "outputs": [
    {
     "data": {
      "text/plain": [
       "26"
      ]
     },
     "execution_count": 238,
     "metadata": {},
     "output_type": "execute_result"
    }
   ],
   "source": [
    "len(set(stuff))"
   ]
  },
  {
   "cell_type": "markdown",
   "metadata": {},
   "source": [
    "Next, it is time to create a dictionary which will give me the code value I created for each letter of the alphabet."
   ]
  },
  {
   "cell_type": "code",
   "execution_count": 239,
   "metadata": {},
   "outputs": [],
   "source": [
    "letter_code = dict(zip(psyduck,stuff))"
   ]
  },
  {
   "cell_type": "code",
   "execution_count": 240,
   "metadata": {},
   "outputs": [
    {
     "data": {
      "text/plain": [
       "{'a': 98,\n",
       " 'b': 100,\n",
       " 'c': 102,\n",
       " 'd': 104,\n",
       " 'e': 106,\n",
       " 'f': 108,\n",
       " 'g': 110,\n",
       " 'h': 112,\n",
       " 'i': 114,\n",
       " 'j': 116,\n",
       " 'k': 118,\n",
       " 'l': 120,\n",
       " 'm': 122,\n",
       " 'n': 124,\n",
       " 'o': 126,\n",
       " 'p': 128,\n",
       " 'q': 130,\n",
       " 'r': 132,\n",
       " 's': 134,\n",
       " 't': 136,\n",
       " 'u': 138,\n",
       " 'v': 140,\n",
       " 'w': 142,\n",
       " 'x': 144,\n",
       " 'y': 146,\n",
       " 'z': 148}"
      ]
     },
     "execution_count": 240,
     "metadata": {},
     "output_type": "execute_result"
    }
   ],
   "source": [
    "letter_code"
   ]
  },
  {
   "cell_type": "markdown",
   "metadata": {},
   "source": [
    "Finally, I will create an encoding function that takes a string of lower case letters and returns a list of integers representing the code number I gave to each letter. Let's end the function with a helpful exit message in case of a non-lowercase letter."
   ]
  },
  {
   "cell_type": "code",
   "execution_count": 618,
   "metadata": {},
   "outputs": [],
   "source": [
    "def encode(string):\n",
    "    code_list = []\n",
    "    for letter in string:\n",
    "        if letter in letter_code:\n",
    "            print(letter_code[letter])\n",
    "        else:\n",
    "            print('The character cannot be encoded!')\n",
    "            return(code_list)"
   ]
  },
  {
   "cell_type": "markdown",
   "metadata": {},
   "source": [
    "Let's try out our function using the word \"hello\"."
   ]
  },
  {
   "cell_type": "code",
   "execution_count": 598,
   "metadata": {},
   "outputs": [
    {
     "name": "stdout",
     "output_type": "stream",
     "text": [
      "112\n",
      "106\n",
      "120\n",
      "120\n",
      "126\n"
     ]
    }
   ],
   "source": [
    "encode(\"hello\")"
   ]
  },
  {
   "cell_type": "markdown",
   "metadata": {},
   "source": [
    "What about non-lowercase letters?"
   ]
  },
  {
   "cell_type": "code",
   "execution_count": 615,
   "metadata": {},
   "outputs": [
    {
     "name": "stdout",
     "output_type": "stream",
     "text": [
      "The character cannot be encoded!\n"
     ]
    },
    {
     "data": {
      "text/plain": [
       "[]"
      ]
     },
     "execution_count": 615,
     "metadata": {},
     "output_type": "execute_result"
    }
   ],
   "source": [
    "encode(\"HELLO THERE!\")"
   ]
  },
  {
   "cell_type": "markdown",
   "metadata": {},
   "source": [
    "## Thank you for reading!"
   ]
  }
 ],
 "metadata": {
  "kernelspec": {
   "display_name": "Python 3",
   "language": "python",
   "name": "python3"
  },
  "language_info": {
   "codemirror_mode": {
    "name": "ipython",
    "version": 3
   },
   "file_extension": ".py",
   "mimetype": "text/x-python",
   "name": "python",
   "nbconvert_exporter": "python",
   "pygments_lexer": "ipython3",
   "version": "3.7.3"
  }
 },
 "nbformat": 4,
 "nbformat_minor": 2
}
