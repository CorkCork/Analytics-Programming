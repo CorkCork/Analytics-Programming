{
 "cells": [
  {
   "cell_type": "markdown",
   "metadata": {},
   "source": [
    "## NYPD Motor Vehicle Collision Data"
   ]
  },
  {
   "cell_type": "markdown",
   "metadata": {},
   "source": [
    "### Overview\n",
    "\n",
    "The Motor Vehicle Collisions Crash table contains details on the crash events. Each row represents a crash event. The Motor Vehicle Collisions data tables contain information from all police reported motor vehicle collisions in NYC. The dataset can be found by following this link: https://data.cityofnewyork.us/Public-Safety/NYPD-Motor-Vehicle-Collisions-Crashes/h9gi-nx95"
   ]
  },
  {
   "cell_type": "markdown",
   "metadata": {},
   "source": [
    "### High-Level Description\n",
    "\n",
    "The data dates from 2012 to the current day, with data being updated on a daily basis. At the time of this writing, there are 1.59 million rows, each row representing a crash event, and 29 columns which represent date, time, borough, zip code, latitude, longitude, location, on and off street name, cross street name, number of persons injured, number of persons killed, number of pedestrians injured, number of pedestrians killed, number of cyclist injured, number of cyclist killed, number of motorist injured, number of motorist killed, contributing factors, vehicle type codes and collision ID."
   ]
  },
  {
   "cell_type": "markdown",
   "metadata": {},
   "source": [
    "### Bring in the data\n",
    "\n",
    "I will begin by bringing in only 2000000 rows."
   ]
  },
  {
   "cell_type": "code",
   "execution_count": null,
   "metadata": {},
   "outputs": [],
   "source": [
    "import pandas as pd\n",
    "import numpy as np\n",
    "import datetime as d\n",
    "datanyc = pd.read_csv(\"https://data.cityofnewyork.us/resource/h9gi-nx95.csv?$limit=2000000\")"
   ]
  },
  {
   "cell_type": "markdown",
   "metadata": {},
   "source": [
    "Let's take a peek at what the data looks like."
   ]
  },
  {
   "cell_type": "code",
   "execution_count": null,
   "metadata": {},
   "outputs": [],
   "source": [
    "pd.set_option('display.max_columns', 50)\n",
    "datanyc.head()"
   ]
  },
  {
   "cell_type": "code",
   "execution_count": null,
   "metadata": {},
   "outputs": [],
   "source": [
    "datanyc.shape"
   ]
  },
  {
   "cell_type": "markdown",
   "metadata": {},
   "source": [
    "There is around 347061 rows and 29 columns. Let's do some data cleaning. I will begin by transforming the string timestamp for `accident_date` to a true datetime data type."
   ]
  },
  {
   "cell_type": "code",
   "execution_count": null,
   "metadata": {},
   "outputs": [],
   "source": [
    "datanyc['accident_date'] = pd.to_datetime(datanyc['accident_date'])\n",
    "pd.set_option('display.max_columns', 50)\n",
    "datanyc.head()"
   ]
  },
  {
   "cell_type": "markdown",
   "metadata": {},
   "source": [
    "And let's remove \"unspecified\" values in the `contributing_factor_vehicle_1` column since I will use it in my visualizations. I will also change the `number_of_persons_injured` and `number_of_persons_killed` values from float to integer."
   ]
  },
  {
   "cell_type": "code",
   "execution_count": null,
   "metadata": {},
   "outputs": [],
   "source": [
    "indexNames = datanyc[datanyc['contributing_factor_vehicle_1'] == 'Unspecified' ].index\n",
    "datanyc.drop(indexNames , inplace=True)"
   ]
  },
  {
   "cell_type": "code",
   "execution_count": null,
   "metadata": {},
   "outputs": [],
   "source": [
    "# First, I will first get rid of any missing values\n",
    "datanyc.dropna(subset = ['number_of_persons_injured'], how='all', inplace=True)\n",
    "datanyc.dropna(subset = ['number_of_persons_killed'], how='all', inplace=True)\n",
    "\n",
    "datanyc['number_of_persons_injured'] = datanyc.number_of_persons_injured.astype(int)\n",
    "datanyc['number_of_persons_killed'] = datanyc.number_of_persons_killed.astype(int)\n",
    "datanyc.head()"
   ]
  },
  {
   "cell_type": "markdown",
   "metadata": {},
   "source": [
    "Let's see the unique values in the `contributing_factor_vehicle_1` column."
   ]
  },
  {
   "cell_type": "code",
   "execution_count": null,
   "metadata": {},
   "outputs": [],
   "source": [
    "unique_contirbuting_factors = datanyc['contributing_factor_vehicle_1'].unique()\n",
    "unique_contirbuting_factors"
   ]
  },
  {
   "cell_type": "markdown",
   "metadata": {},
   "source": [
    "A lot of unique values... Let's do some combining to make our job easy."
   ]
  },
  {
   "cell_type": "code",
   "execution_count": null,
   "metadata": {},
   "outputs": [],
   "source": [
    "datanyc['contributing_factor_vehicle_1'].replace({'Backing Unsafely': 'Driver Inexperience', \n",
    "                                                  'Unsafe Speed': 'Driver Inexperience', \n",
    "                                                 'Passing or Lane Usage Improper': 'Driver Inexperience',\n",
    "                                                 'Turning Improperly': 'Driver Inexperience',\n",
    "                                                 'Following Too Closely': 'Driver Inexperience',\n",
    "                                                 'Passing Too Closely' : 'Driver Inexperience',\n",
    "                                                 'Outside Car Distraction': 'Driver Inexperience',\n",
    "                                                 'Steering Failure': 'Driver Inexperience',\n",
    "                                                 'Reaction to Uninvolved Vehicle': 'Driver Inexperience',\n",
    "                                                 'Traffic Control Disregarded': 'Driver Inexperience',\n",
    "                                                 'Failure to Yield Right-of-Way': 'Driver Inexperience',\n",
    "                                                 'Aggressive Driving/Road Rage': 'Driver Inexperience',\n",
    "                                                 'Unsafe Lane Changing': 'Driver Inexperience',\n",
    "                                                  \n",
    "                                                 'Passenger Distraction': 'Driver Inattention/Distraction',\n",
    "                                                 'Failure to Keep Right': 'Driver Inattention/Distraction',\n",
    "                                                 'Eating or Drinking': 'Driver Inattention/Distraction',\n",
    "                                                 'Animals Action': 'Driver Inattention/Distraction',\n",
    "                                                 'Using On Board Navigation Device': 'Driver Inattention/Distraction',\n",
    "                                                 'Reaction to Other Uninvolved Vehicle': 'Driver Inattention/Distraction',\n",
    "                                                 'Cell Phone (hands-free)': 'Driver Inattention/Distraction',\n",
    "                                                 'Cell Phone (hand-Held)': 'Driver Inattention/Distraction',\n",
    "                                                 'Other Electronic Device': 'Driver Inattention/Distraction',\n",
    "                                                 'Cell Phone (hand-held)': 'Driver Inattention/Distraction',\n",
    "                                                 'Texting': 'Driver Inattention/Distraction',\n",
    "                                                 'Listening/Using Headphones': 'Driver Inattention/Distraction',\n",
    "                                                 'Fatigued/Drowsy': 'Driver Inattention/Distraction',\n",
    "                                                 'Fell Asleep': 'Driver Inattention/Distraction',\n",
    "                                                  \n",
    "                                                  \n",
    "                                                 'Brakes Defective': 'Car Defects',\n",
    "                                                 'Tinted Windows': 'Car Defects',\n",
    "                                                 'Tire Failure/Inadequate': 'Car Defects',\n",
    "                                                 'Tow Hitch Defective': 'Car Defects',\n",
    "                                                 'Headlights Defective': 'Car Defects',\n",
    "                                                 'Accelerator Defective': 'Car Defects',\n",
    "                                                 'Windshield Inadequate': 'Car Defects',\n",
    "                                                 'Driverless/Runaway Vehicle': 'Car Defects',\n",
    "                                                 'Oversized Vehicle': 'Car Defects',\n",
    "\n",
    "                                                  \n",
    "                                                 'Traffic Control Disregarded':'Road Defects',\n",
    "                                                 'Glare':'Road Defects',\n",
    "                                                 'Tinted Windows':'Road Defects',\n",
    "                                                 'Lane Marking Improper/Inadequate': 'Road Defects',\n",
    "                                                 'View Obstructed/Limited': 'Road Defects',\n",
    "                                                 'Pavement Defective': 'Road Defects',\n",
    "                                                 'Other Lighting Defects': 'Road Defects',\n",
    "                                                 'Obstruction/Debris': 'Road Defects',\n",
    "                                                 'Traffic Control Device Improper/Non-Working': 'Road Defects',\n",
    "                                                 'Shoulders Defective/Improper': 'Road Defects',\n",
    "                                                 'Pavement Slippery': 'Road Defects',\n",
    "                                                  \n",
    "                                                 'Illnes': 'Illness',\n",
    "                                                 'Lost Consciousness': 'Illness',\n",
    "                                                 'Physical Disability': 'Illness',\n",
    "                                                 'Prescription Medication': 'Illness',\n",
    "                                                  \n",
    "                                                 'Drugs (illegal)': 'Drugs (Illegal)',\n",
    "                                                 'Alcohol Involvement': 'Drugs (Illegal)',\n",
    "                                                  \n",
    "                                                 'Pedestrian/Bicyclist/Other Pedestrian Error/Confusion': 'Outside Error',\n",
    "                                                 'Vehicle Vandalism': 'Outside Error',\n",
    "                                                 'Other Vehicular': 'Outside Error',\n",
    "                                                  \n",
    "                                                 }, inplace=True)"
   ]
  },
  {
   "cell_type": "code",
   "execution_count": null,
   "metadata": {},
   "outputs": [],
   "source": [
    "datanyc['contributing_factor_vehicle_1'].unique()"
   ]
  },
  {
   "cell_type": "markdown",
   "metadata": {},
   "source": [
    "I will also drop 80 and 1 since I do not know what they are about. I will also drop the nan value."
   ]
  },
  {
   "cell_type": "code",
   "execution_count": null,
   "metadata": {},
   "outputs": [],
   "source": [
    "nyc80 = datanyc[datanyc['contributing_factor_vehicle_1'] == '80' ].index\n",
    "datanyc.drop(nyc80, inplace=True)\n",
    "\n",
    "nyc1 = datanyc[datanyc['contributing_factor_vehicle_1'] == '1' ].index\n",
    "datanyc.drop(nyc1, inplace=True)\n",
    "\n",
    "datanyc.dropna(subset = ['contributing_factor_vehicle_1'], how='all', inplace=True)"
   ]
  },
  {
   "cell_type": "code",
   "execution_count": null,
   "metadata": {},
   "outputs": [],
   "source": [
    "datanyc['contributing_factor_vehicle_1'].unique()"
   ]
  },
  {
   "cell_type": "markdown",
   "metadata": {},
   "source": [
    "Next, I will use Plotly, specifically, `plotly.express` to visualize some contributing factor trends."
   ]
  },
  {
   "cell_type": "code",
   "execution_count": null,
   "metadata": {},
   "outputs": [],
   "source": [
    "!pip install plotly.express\n",
    "import plotly.express as px"
   ]
  },
  {
   "cell_type": "code",
   "execution_count": null,
   "metadata": {},
   "outputs": [],
   "source": [
    "import plotly.graph_objects as go\n",
    "fig = px.box(datanyc, x=\"number_of_persons_killed\", y=\"contributing_factor_vehicle_1\")\n",
    "fig.show()"
   ]
  },
  {
   "cell_type": "markdown",
   "metadata": {},
   "source": [
    "Most collisions that result in one person's death are due to driver inexperience, meanwhile most collisions that result with two persons death are due to an outside error.\n",
    "\n",
    "Let's see when the accidents, in which more than one person die, tend to occur."
   ]
  },
  {
   "cell_type": "code",
   "execution_count": null,
   "metadata": {},
   "outputs": [],
   "source": [
    "datanyc['time'] = pd.to_datetime(datanyc.accident_time)\n",
    "datanyc['hour'] = datanyc['time'].dt.hour\n",
    "datanyc.head()"
   ]
  },
  {
   "cell_type": "code",
   "execution_count": null,
   "metadata": {},
   "outputs": [],
   "source": [
    "import plotly.express as px\n",
    "fig = px.scatter (datanyc, x= 'number_of_persons_killed', y= 'hour')\n",
    "fig.show()"
   ]
  },
  {
   "cell_type": "markdown",
   "metadata": {},
   "source": [
    "The collisions that result with more than one persons death tend to occur between 22:00 and 04:00."
   ]
  },
  {
   "cell_type": "markdown",
   "metadata": {},
   "source": [
    "## Thank you for reading!"
   ]
  }
 ],
 "metadata": {
  "kernelspec": {
   "display_name": "Python 3",
   "language": "python",
   "name": "python3"
  },
  "language_info": {
   "codemirror_mode": {
    "name": "ipython",
    "version": 3
   },
   "file_extension": ".py",
   "mimetype": "text/x-python",
   "name": "python",
   "nbconvert_exporter": "python",
   "pygments_lexer": "ipython3",
   "version": "3.7.3"
  }
 },
 "nbformat": 4,
 "nbformat_minor": 2
}
