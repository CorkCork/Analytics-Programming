{
 "cells": [
  {
   "cell_type": "markdown",
   "metadata": {},
   "source": [
    "## Assignment 5: Pandas"
   ]
  },
  {
   "cell_type": "markdown",
   "metadata": {},
   "source": [
    "October 6, 2019"
   ]
  },
  {
   "cell_type": "markdown",
   "metadata": {},
   "source": [
    "#### Esin Alpturk"
   ]
  },
  {
   "cell_type": "markdown",
   "metadata": {},
   "source": [
    "## Description \n",
    "\n",
    "This time, we're working with New York City gas consumption data. More information can be found at https://data.cityofnewyork.us/Environment/Natural-Gas-Consumption-by-ZIP-Code-2010/uedp-fegm/data .\n",
    "\n",
    "As a data analyst working to improve energy efficiency in NYC, my first job is to ingest and explore this data. That's what we'll do here."
   ]
  },
  {
   "cell_type": "markdown",
   "metadata": {},
   "source": [
    "## Data Ingestion\n",
    "\n",
    "We'll bring the data into my local environment using a pandas command called read_csv."
   ]
  },
  {
   "cell_type": "code",
   "execution_count": 1,
   "metadata": {},
   "outputs": [],
   "source": [
    "import pandas as pd\n",
    "\n",
    "nyc_gas = pd.read_csv('https://raw.githubusercontent.com/CorkCork/Analytics-Programming/master/Module%205/Data/Natural_Gas_Consumption_by_ZIP_Code_-_2010.csv')"
   ]
  },
  {
   "cell_type": "markdown",
   "metadata": {},
   "source": [
    "## Quick Data Preview\n",
    "\n",
    "Let's look at the first ten rows to get an idea of what data looks like."
   ]
  },
  {
   "cell_type": "code",
   "execution_count": 2,
   "metadata": {},
   "outputs": [
    {
     "data": {
      "text/html": [
       "<div>\n",
       "<style scoped>\n",
       "    .dataframe tbody tr th:only-of-type {\n",
       "        vertical-align: middle;\n",
       "    }\n",
       "\n",
       "    .dataframe tbody tr th {\n",
       "        vertical-align: top;\n",
       "    }\n",
       "\n",
       "    .dataframe thead th {\n",
       "        text-align: right;\n",
       "    }\n",
       "</style>\n",
       "<table border=\"1\" class=\"dataframe\">\n",
       "  <thead>\n",
       "    <tr style=\"text-align: right;\">\n",
       "      <th></th>\n",
       "      <th>Zip Code</th>\n",
       "      <th>Building type (service class</th>\n",
       "      <th>Consumption (therms)</th>\n",
       "      <th>Consumption (GJ)</th>\n",
       "      <th>Utility/Data Source</th>\n",
       "    </tr>\n",
       "  </thead>\n",
       "  <tbody>\n",
       "    <tr>\n",
       "      <th>0</th>\n",
       "      <td>10300</td>\n",
       "      <td>Commercial</td>\n",
       "      <td>470.0</td>\n",
       "      <td>50.0</td>\n",
       "      <td>National Grid</td>\n",
       "    </tr>\n",
       "    <tr>\n",
       "      <th>1</th>\n",
       "      <td>10335</td>\n",
       "      <td>Commercial</td>\n",
       "      <td>647.0</td>\n",
       "      <td>68.0</td>\n",
       "      <td>National Grid</td>\n",
       "    </tr>\n",
       "    <tr>\n",
       "      <th>2</th>\n",
       "      <td>10360</td>\n",
       "      <td>Large residential</td>\n",
       "      <td>33762.0</td>\n",
       "      <td>3562.0</td>\n",
       "      <td>National Grid</td>\n",
       "    </tr>\n",
       "    <tr>\n",
       "      <th>3</th>\n",
       "      <td>11200</td>\n",
       "      <td>Commercial</td>\n",
       "      <td>32125.0</td>\n",
       "      <td>3389.0</td>\n",
       "      <td>National Grid</td>\n",
       "    </tr>\n",
       "    <tr>\n",
       "      <th>4</th>\n",
       "      <td>11200</td>\n",
       "      <td>Institutional</td>\n",
       "      <td>3605.0</td>\n",
       "      <td>380.0</td>\n",
       "      <td>National Grid</td>\n",
       "    </tr>\n",
       "    <tr>\n",
       "      <th>5</th>\n",
       "      <td>11200</td>\n",
       "      <td>Small residential</td>\n",
       "      <td>3960.0</td>\n",
       "      <td>418.0</td>\n",
       "      <td>National Grid</td>\n",
       "    </tr>\n",
       "    <tr>\n",
       "      <th>6</th>\n",
       "      <td>11254</td>\n",
       "      <td>Small residential</td>\n",
       "      <td>1896.0</td>\n",
       "      <td>200.0</td>\n",
       "      <td>National Grid</td>\n",
       "    </tr>\n",
       "    <tr>\n",
       "      <th>7</th>\n",
       "      <td>11274</td>\n",
       "      <td>Commercial</td>\n",
       "      <td>8364.0</td>\n",
       "      <td>882.0</td>\n",
       "      <td>National Grid</td>\n",
       "    </tr>\n",
       "    <tr>\n",
       "      <th>8</th>\n",
       "      <td>11279</td>\n",
       "      <td>Commercial</td>\n",
       "      <td>2579.0</td>\n",
       "      <td>272.0</td>\n",
       "      <td>National Grid</td>\n",
       "    </tr>\n",
       "    <tr>\n",
       "      <th>9</th>\n",
       "      <td>11279</td>\n",
       "      <td>Large residential</td>\n",
       "      <td>301.0</td>\n",
       "      <td>32.0</td>\n",
       "      <td>National Grid</td>\n",
       "    </tr>\n",
       "  </tbody>\n",
       "</table>\n",
       "</div>"
      ],
      "text/plain": [
       "  Zip Code Building type (service class   Consumption (therms)   \\\n",
       "0    10300                   Commercial                   470.0   \n",
       "1    10335                   Commercial                   647.0   \n",
       "2    10360            Large residential                 33762.0   \n",
       "3    11200                   Commercial                 32125.0   \n",
       "4    11200                Institutional                  3605.0   \n",
       "5    11200            Small residential                  3960.0   \n",
       "6    11254            Small residential                  1896.0   \n",
       "7    11274                   Commercial                  8364.0   \n",
       "8    11279                   Commercial                  2579.0   \n",
       "9    11279            Large residential                   301.0   \n",
       "\n",
       "    Consumption (GJ)  Utility/Data Source  \n",
       "0                50.0       National Grid  \n",
       "1                68.0       National Grid  \n",
       "2              3562.0       National Grid  \n",
       "3              3389.0       National Grid  \n",
       "4               380.0       National Grid  \n",
       "5               418.0       National Grid  \n",
       "6               200.0       National Grid  \n",
       "7               882.0       National Grid  \n",
       "8               272.0       National Grid  \n",
       "9                32.0       National Grid  "
      ]
     },
     "execution_count": 2,
     "metadata": {},
     "output_type": "execute_result"
    }
   ],
   "source": [
    "nyc_gas.head(10)"
   ]
  },
  {
   "cell_type": "markdown",
   "metadata": {},
   "source": [
    "So, it seems that we have five columns of data, which represent:\n",
    "\n",
    "* ZIP code (postal code)\n",
    "* Building type\n",
    "* Consumption in therms \n",
    "* Consumption in GJ \n",
    "* Utility that reported this data"
   ]
  },
  {
   "cell_type": "markdown",
   "metadata": {},
   "source": [
    "## Data Size and Labels\n",
    "\n",
    "Next, it is time to get additional basic details about our data: number of columns and the label names for our data."
   ]
  },
  {
   "cell_type": "code",
   "execution_count": 3,
   "metadata": {},
   "outputs": [
    {
     "data": {
      "text/plain": [
       "(1015, 5)"
      ]
     },
     "execution_count": 3,
     "metadata": {},
     "output_type": "execute_result"
    }
   ],
   "source": [
    "nyc_gas.shape"
   ]
  },
  {
   "cell_type": "code",
   "execution_count": 4,
   "metadata": {},
   "outputs": [
    {
     "data": {
      "text/plain": [
       "['Zip Code',\n",
       " 'Building type (service class',\n",
       " ' Consumption (therms) ',\n",
       " ' Consumption (GJ) ',\n",
       " 'Utility/Data Source']"
      ]
     },
     "execution_count": 4,
     "metadata": {},
     "output_type": "execute_result"
    }
   ],
   "source": [
    "list(nyc_gas.columns)"
   ]
  },
  {
   "cell_type": "markdown",
   "metadata": {},
   "source": [
    "We have 1015 rows. As we already established, we have 5 columns. When looking at the column labels, we notice a few things that might affect how easy it is to use them in code:\n",
    "\n",
    "* First problem is that column names are hard to work with.\n",
    "* Another thing? It would be optimal to use either GJ or therms while calculating consumption. Not both.\n",
    "\n",
    "I will find it useful to reindex my DataFrame and give different column names. I prefer to use labels that are all lowercase and have no punctuation other than underscore (_)."
   ]
  },
  {
   "cell_type": "code",
   "execution_count": 5,
   "metadata": {},
   "outputs": [],
   "source": [
    "nyc_gas.rename(columns={'Zip Code' : \"zip\",\n",
    "              'Building type (service class' : \"building_type\", \n",
    "              ' Consumption (therms) ' : \"consumption_therms\", \n",
    "              ' Consumption (GJ) ' : \"consumption_gj\", \n",
    "              'Utility/Data Source' : \"utility_reporter\"} , inplace=True)"
   ]
  },
  {
   "cell_type": "markdown",
   "metadata": {},
   "source": [
    "Let's check our renamed DataFrame to see if it's a bit easier to work with, as far as computationally-friendly but human-readable column names:"
   ]
  },
  {
   "cell_type": "code",
   "execution_count": 6,
   "metadata": {},
   "outputs": [
    {
     "data": {
      "text/html": [
       "<div>\n",
       "<style scoped>\n",
       "    .dataframe tbody tr th:only-of-type {\n",
       "        vertical-align: middle;\n",
       "    }\n",
       "\n",
       "    .dataframe tbody tr th {\n",
       "        vertical-align: top;\n",
       "    }\n",
       "\n",
       "    .dataframe thead th {\n",
       "        text-align: right;\n",
       "    }\n",
       "</style>\n",
       "<table border=\"1\" class=\"dataframe\">\n",
       "  <thead>\n",
       "    <tr style=\"text-align: right;\">\n",
       "      <th></th>\n",
       "      <th>zip</th>\n",
       "      <th>building_type</th>\n",
       "      <th>consumption_therms</th>\n",
       "      <th>consumption_gj</th>\n",
       "      <th>utility_reporter</th>\n",
       "    </tr>\n",
       "  </thead>\n",
       "  <tbody>\n",
       "    <tr>\n",
       "      <th>0</th>\n",
       "      <td>10300</td>\n",
       "      <td>Commercial</td>\n",
       "      <td>470.0</td>\n",
       "      <td>50.0</td>\n",
       "      <td>National Grid</td>\n",
       "    </tr>\n",
       "    <tr>\n",
       "      <th>1</th>\n",
       "      <td>10335</td>\n",
       "      <td>Commercial</td>\n",
       "      <td>647.0</td>\n",
       "      <td>68.0</td>\n",
       "      <td>National Grid</td>\n",
       "    </tr>\n",
       "    <tr>\n",
       "      <th>2</th>\n",
       "      <td>10360</td>\n",
       "      <td>Large residential</td>\n",
       "      <td>33762.0</td>\n",
       "      <td>3562.0</td>\n",
       "      <td>National Grid</td>\n",
       "    </tr>\n",
       "    <tr>\n",
       "      <th>3</th>\n",
       "      <td>11200</td>\n",
       "      <td>Commercial</td>\n",
       "      <td>32125.0</td>\n",
       "      <td>3389.0</td>\n",
       "      <td>National Grid</td>\n",
       "    </tr>\n",
       "    <tr>\n",
       "      <th>4</th>\n",
       "      <td>11200</td>\n",
       "      <td>Institutional</td>\n",
       "      <td>3605.0</td>\n",
       "      <td>380.0</td>\n",
       "      <td>National Grid</td>\n",
       "    </tr>\n",
       "  </tbody>\n",
       "</table>\n",
       "</div>"
      ],
      "text/plain": [
       "     zip      building_type  consumption_therms  consumption_gj  \\\n",
       "0  10300         Commercial               470.0            50.0   \n",
       "1  10335         Commercial               647.0            68.0   \n",
       "2  10360  Large residential             33762.0          3562.0   \n",
       "3  11200         Commercial             32125.0          3389.0   \n",
       "4  11200      Institutional              3605.0           380.0   \n",
       "\n",
       "  utility_reporter  \n",
       "0    National Grid  \n",
       "1    National Grid  \n",
       "2    National Grid  \n",
       "3    National Grid  \n",
       "4    National Grid  "
      ]
     },
     "execution_count": 6,
     "metadata": {},
     "output_type": "execute_result"
    }
   ],
   "source": [
    "nyc_gas.head()"
   ]
  },
  {
   "cell_type": "markdown",
   "metadata": {},
   "source": [
    "All look good. Now we can do some actual data analysis to explore the data. We'll start with building types."
   ]
  },
  {
   "cell_type": "markdown",
   "metadata": {},
   "source": [
    "## Building Types\n",
    "\n",
    "We have a few questions we want to answer here, including:\n",
    "\n",
    "* How many distinct building types are included?\n",
    "* What is the median energy consumption for each type?\n",
    "* How do building types compare?\n",
    "\n",
    "We'll start by looking at the number of unique building types:"
   ]
  },
  {
   "cell_type": "code",
   "execution_count": 7,
   "metadata": {},
   "outputs": [
    {
     "data": {
      "text/plain": [
       "array(['Commercial', 'Large residential', 'Institutional',\n",
       "       'Small residential', 'Industrial', 'Large Residential',\n",
       "       'Residential'], dtype=object)"
      ]
     },
     "execution_count": 7,
     "metadata": {},
     "output_type": "execute_result"
    }
   ],
   "source": [
    "nyc_gas['building_type'].unique()"
   ]
  },
  {
   "cell_type": "markdown",
   "metadata": {},
   "source": [
    "I see that there are seven kinds of buildings, but two of them seem to be the same thing, just written differently, with different capitalization. I want to combine \"Large residential\" and \"Large Residential\" into one group. Also, it's unclear what \"Residential\" is -- is it small? Large? I'll leave just plain \"Residential\" on its own until we get more information.\n",
    "\n",
    "There are many ways to accomplish what I want to do here. One way is to filter the DataFrame so that I get several smaller DataFrames, one for each type of building. That's what I'll do here, doing a quick peek to make sure I have the right data. Then I can find median values on the columns, in my case the consumption_gj column!"
   ]
  },
  {
   "cell_type": "code",
   "execution_count": 8,
   "metadata": {},
   "outputs": [
    {
     "data": {
      "text/html": [
       "<div>\n",
       "<style scoped>\n",
       "    .dataframe tbody tr th:only-of-type {\n",
       "        vertical-align: middle;\n",
       "    }\n",
       "\n",
       "    .dataframe tbody tr th {\n",
       "        vertical-align: top;\n",
       "    }\n",
       "\n",
       "    .dataframe thead th {\n",
       "        text-align: right;\n",
       "    }\n",
       "</style>\n",
       "<table border=\"1\" class=\"dataframe\">\n",
       "  <thead>\n",
       "    <tr style=\"text-align: right;\">\n",
       "      <th></th>\n",
       "      <th>zip</th>\n",
       "      <th>building_type</th>\n",
       "      <th>consumption_therms</th>\n",
       "      <th>consumption_gj</th>\n",
       "      <th>utility_reporter</th>\n",
       "    </tr>\n",
       "  </thead>\n",
       "  <tbody>\n",
       "    <tr>\n",
       "      <th>0</th>\n",
       "      <td>10300</td>\n",
       "      <td>Commercial</td>\n",
       "      <td>470.0</td>\n",
       "      <td>50.0</td>\n",
       "      <td>National Grid</td>\n",
       "    </tr>\n",
       "    <tr>\n",
       "      <th>1</th>\n",
       "      <td>10335</td>\n",
       "      <td>Commercial</td>\n",
       "      <td>647.0</td>\n",
       "      <td>68.0</td>\n",
       "      <td>National Grid</td>\n",
       "    </tr>\n",
       "    <tr>\n",
       "      <th>3</th>\n",
       "      <td>11200</td>\n",
       "      <td>Commercial</td>\n",
       "      <td>32125.0</td>\n",
       "      <td>3389.0</td>\n",
       "      <td>National Grid</td>\n",
       "    </tr>\n",
       "    <tr>\n",
       "      <th>7</th>\n",
       "      <td>11274</td>\n",
       "      <td>Commercial</td>\n",
       "      <td>8364.0</td>\n",
       "      <td>882.0</td>\n",
       "      <td>National Grid</td>\n",
       "    </tr>\n",
       "    <tr>\n",
       "      <th>8</th>\n",
       "      <td>11279</td>\n",
       "      <td>Commercial</td>\n",
       "      <td>2579.0</td>\n",
       "      <td>272.0</td>\n",
       "      <td>National Grid</td>\n",
       "    </tr>\n",
       "  </tbody>\n",
       "</table>\n",
       "</div>"
      ],
      "text/plain": [
       "     zip building_type  consumption_therms  consumption_gj utility_reporter\n",
       "0  10300    Commercial               470.0            50.0    National Grid\n",
       "1  10335    Commercial               647.0            68.0    National Grid\n",
       "3  11200    Commercial             32125.0          3389.0    National Grid\n",
       "7  11274    Commercial              8364.0           882.0    National Grid\n",
       "8  11279    Commercial              2579.0           272.0    National Grid"
      ]
     },
     "execution_count": 8,
     "metadata": {},
     "output_type": "execute_result"
    }
   ],
   "source": [
    "commercial_df = nyc_gas[nyc_gas[\"building_type\"] == \"Commercial\"]\n",
    "commercial_df.head()"
   ]
  },
  {
   "cell_type": "code",
   "execution_count": 9,
   "metadata": {},
   "outputs": [
    {
     "data": {
      "text/plain": [
       "189413.0"
      ]
     },
     "execution_count": 9,
     "metadata": {},
     "output_type": "execute_result"
    }
   ],
   "source": [
    "commercial_df[\"consumption_gj\"].median()"
   ]
  },
  {
   "cell_type": "markdown",
   "metadata": {},
   "source": [
    "I'll do the same for the other building types, and make sure to include both \"large\" types when I create that data frame!"
   ]
  },
  {
   "cell_type": "code",
   "execution_count": 10,
   "metadata": {},
   "outputs": [
    {
     "data": {
      "text/html": [
       "<div>\n",
       "<style scoped>\n",
       "    .dataframe tbody tr th:only-of-type {\n",
       "        vertical-align: middle;\n",
       "    }\n",
       "\n",
       "    .dataframe tbody tr th {\n",
       "        vertical-align: top;\n",
       "    }\n",
       "\n",
       "    .dataframe thead th {\n",
       "        text-align: right;\n",
       "    }\n",
       "</style>\n",
       "<table border=\"1\" class=\"dataframe\">\n",
       "  <thead>\n",
       "    <tr style=\"text-align: right;\">\n",
       "      <th></th>\n",
       "      <th>zip</th>\n",
       "      <th>building_type</th>\n",
       "      <th>consumption_therms</th>\n",
       "      <th>consumption_gj</th>\n",
       "      <th>utility_reporter</th>\n",
       "    </tr>\n",
       "  </thead>\n",
       "  <tbody>\n",
       "    <tr>\n",
       "      <th>4</th>\n",
       "      <td>11200</td>\n",
       "      <td>Institutional</td>\n",
       "      <td>3605.0</td>\n",
       "      <td>380.0</td>\n",
       "      <td>National Grid</td>\n",
       "    </tr>\n",
       "    <tr>\n",
       "      <th>15</th>\n",
       "      <td>11315</td>\n",
       "      <td>Institutional</td>\n",
       "      <td>339.0</td>\n",
       "      <td>36.0</td>\n",
       "      <td>National Grid</td>\n",
       "    </tr>\n",
       "    <tr>\n",
       "      <th>27</th>\n",
       "      <td>11400</td>\n",
       "      <td>Institutional</td>\n",
       "      <td>93140.0</td>\n",
       "      <td>9827.0</td>\n",
       "      <td>National Grid</td>\n",
       "    </tr>\n",
       "    <tr>\n",
       "      <th>32</th>\n",
       "      <td>11438</td>\n",
       "      <td>Institutional</td>\n",
       "      <td>1770.0</td>\n",
       "      <td>187.0</td>\n",
       "      <td>National Grid</td>\n",
       "    </tr>\n",
       "    <tr>\n",
       "      <th>36</th>\n",
       "      <td>11468</td>\n",
       "      <td>Institutional</td>\n",
       "      <td>49184.0</td>\n",
       "      <td>5189.0</td>\n",
       "      <td>National Grid</td>\n",
       "    </tr>\n",
       "  </tbody>\n",
       "</table>\n",
       "</div>"
      ],
      "text/plain": [
       "      zip  building_type  consumption_therms  consumption_gj utility_reporter\n",
       "4   11200  Institutional              3605.0           380.0    National Grid\n",
       "15  11315  Institutional               339.0            36.0    National Grid\n",
       "27  11400  Institutional             93140.0          9827.0    National Grid\n",
       "32  11438  Institutional              1770.0           187.0    National Grid\n",
       "36  11468  Institutional             49184.0          5189.0    National Grid"
      ]
     },
     "execution_count": 10,
     "metadata": {},
     "output_type": "execute_result"
    }
   ],
   "source": [
    "institutional_df = nyc_gas[nyc_gas[\"building_type\"] == \"Institutional\"]\n",
    "institutional_df.head()"
   ]
  },
  {
   "cell_type": "code",
   "execution_count": 11,
   "metadata": {},
   "outputs": [
    {
     "data": {
      "text/plain": [
       "66027.0"
      ]
     },
     "execution_count": 11,
     "metadata": {},
     "output_type": "execute_result"
    }
   ],
   "source": [
    "institutional_df[\"consumption_gj\"].median()"
   ]
  },
  {
   "cell_type": "code",
   "execution_count": 12,
   "metadata": {},
   "outputs": [
    {
     "data": {
      "text/html": [
       "<div>\n",
       "<style scoped>\n",
       "    .dataframe tbody tr th:only-of-type {\n",
       "        vertical-align: middle;\n",
       "    }\n",
       "\n",
       "    .dataframe tbody tr th {\n",
       "        vertical-align: top;\n",
       "    }\n",
       "\n",
       "    .dataframe thead th {\n",
       "        text-align: right;\n",
       "    }\n",
       "</style>\n",
       "<table border=\"1\" class=\"dataframe\">\n",
       "  <thead>\n",
       "    <tr style=\"text-align: right;\">\n",
       "      <th></th>\n",
       "      <th>zip</th>\n",
       "      <th>building_type</th>\n",
       "      <th>consumption_therms</th>\n",
       "      <th>consumption_gj</th>\n",
       "      <th>utility_reporter</th>\n",
       "    </tr>\n",
       "  </thead>\n",
       "  <tbody>\n",
       "    <tr>\n",
       "      <th>5</th>\n",
       "      <td>11200</td>\n",
       "      <td>Small residential</td>\n",
       "      <td>3960.0</td>\n",
       "      <td>418.0</td>\n",
       "      <td>National Grid</td>\n",
       "    </tr>\n",
       "    <tr>\n",
       "      <th>6</th>\n",
       "      <td>11254</td>\n",
       "      <td>Small residential</td>\n",
       "      <td>1896.0</td>\n",
       "      <td>200.0</td>\n",
       "      <td>National Grid</td>\n",
       "    </tr>\n",
       "    <tr>\n",
       "      <th>11</th>\n",
       "      <td>11303</td>\n",
       "      <td>Small residential</td>\n",
       "      <td>3009.0</td>\n",
       "      <td>317.0</td>\n",
       "      <td>National Grid</td>\n",
       "    </tr>\n",
       "    <tr>\n",
       "      <th>12</th>\n",
       "      <td>11313</td>\n",
       "      <td>Small residential</td>\n",
       "      <td>3488.0</td>\n",
       "      <td>368.0</td>\n",
       "      <td>National Grid</td>\n",
       "    </tr>\n",
       "    <tr>\n",
       "      <th>13</th>\n",
       "      <td>11314</td>\n",
       "      <td>Small residential</td>\n",
       "      <td>6011.0</td>\n",
       "      <td>634.0</td>\n",
       "      <td>National Grid</td>\n",
       "    </tr>\n",
       "  </tbody>\n",
       "</table>\n",
       "</div>"
      ],
      "text/plain": [
       "      zip      building_type  consumption_therms  consumption_gj  \\\n",
       "5   11200  Small residential              3960.0           418.0   \n",
       "6   11254  Small residential              1896.0           200.0   \n",
       "11  11303  Small residential              3009.0           317.0   \n",
       "12  11313  Small residential              3488.0           368.0   \n",
       "13  11314  Small residential              6011.0           634.0   \n",
       "\n",
       "   utility_reporter  \n",
       "5     National Grid  \n",
       "6     National Grid  \n",
       "11    National Grid  \n",
       "12    National Grid  \n",
       "13    National Grid  "
      ]
     },
     "execution_count": 12,
     "metadata": {},
     "output_type": "execute_result"
    }
   ],
   "source": [
    "small_residential_df = nyc_gas[nyc_gas[\"building_type\"] == \"Small residential\"]\n",
    "small_residential_df.head()"
   ]
  },
  {
   "cell_type": "code",
   "execution_count": 13,
   "metadata": {},
   "outputs": [
    {
     "data": {
      "text/plain": [
       "599600.0"
      ]
     },
     "execution_count": 13,
     "metadata": {},
     "output_type": "execute_result"
    }
   ],
   "source": [
    "small_residential_df[\"consumption_gj\"].median()"
   ]
  },
  {
   "cell_type": "code",
   "execution_count": 14,
   "metadata": {},
   "outputs": [
    {
     "data": {
      "text/html": [
       "<div>\n",
       "<style scoped>\n",
       "    .dataframe tbody tr th:only-of-type {\n",
       "        vertical-align: middle;\n",
       "    }\n",
       "\n",
       "    .dataframe tbody tr th {\n",
       "        vertical-align: top;\n",
       "    }\n",
       "\n",
       "    .dataframe thead th {\n",
       "        text-align: right;\n",
       "    }\n",
       "</style>\n",
       "<table border=\"1\" class=\"dataframe\">\n",
       "  <thead>\n",
       "    <tr style=\"text-align: right;\">\n",
       "      <th></th>\n",
       "      <th>zip</th>\n",
       "      <th>building_type</th>\n",
       "      <th>consumption_therms</th>\n",
       "      <th>consumption_gj</th>\n",
       "      <th>utility_reporter</th>\n",
       "    </tr>\n",
       "  </thead>\n",
       "  <tbody>\n",
       "    <tr>\n",
       "      <th>26</th>\n",
       "      <td>11400</td>\n",
       "      <td>Industrial</td>\n",
       "      <td>275.0</td>\n",
       "      <td>29.0</td>\n",
       "      <td>National Grid</td>\n",
       "    </tr>\n",
       "    <tr>\n",
       "      <th>53</th>\n",
       "      <td>11226(40.646505002304, -73.957190099144)</td>\n",
       "      <td>Industrial</td>\n",
       "      <td>65835.0</td>\n",
       "      <td>6946.0</td>\n",
       "      <td>National Grid</td>\n",
       "    </tr>\n",
       "    <tr>\n",
       "      <th>66</th>\n",
       "      <td>11210(40.627722263871, -73.946537919989)</td>\n",
       "      <td>Industrial</td>\n",
       "      <td>63151.0</td>\n",
       "      <td>6663.0</td>\n",
       "      <td>National Grid</td>\n",
       "    </tr>\n",
       "    <tr>\n",
       "      <th>82</th>\n",
       "      <td>10314(40.596490302985, -74.165991118795)</td>\n",
       "      <td>Industrial</td>\n",
       "      <td>441639.0</td>\n",
       "      <td>46595.0</td>\n",
       "      <td>National Grid</td>\n",
       "    </tr>\n",
       "    <tr>\n",
       "      <th>83</th>\n",
       "      <td>11420(40.673345242689, -73.817707171649)</td>\n",
       "      <td>Industrial</td>\n",
       "      <td>8901.0</td>\n",
       "      <td>939.0</td>\n",
       "      <td>National Grid</td>\n",
       "    </tr>\n",
       "  </tbody>\n",
       "</table>\n",
       "</div>"
      ],
      "text/plain": [
       "                                         zip building_type  \\\n",
       "26                                     11400    Industrial   \n",
       "53  11226(40.646505002304, -73.957190099144)    Industrial   \n",
       "66  11210(40.627722263871, -73.946537919989)    Industrial   \n",
       "82  10314(40.596490302985, -74.165991118795)    Industrial   \n",
       "83  11420(40.673345242689, -73.817707171649)    Industrial   \n",
       "\n",
       "    consumption_therms  consumption_gj utility_reporter  \n",
       "26               275.0            29.0    National Grid  \n",
       "53             65835.0          6946.0    National Grid  \n",
       "66             63151.0          6663.0    National Grid  \n",
       "82            441639.0         46595.0    National Grid  \n",
       "83              8901.0           939.0    National Grid  "
      ]
     },
     "execution_count": 14,
     "metadata": {},
     "output_type": "execute_result"
    }
   ],
   "source": [
    "industrial_df = nyc_gas[nyc_gas[\"building_type\"] == \"Industrial\"]\n",
    "industrial_df.head()"
   ]
  },
  {
   "cell_type": "code",
   "execution_count": 15,
   "metadata": {},
   "outputs": [
    {
     "data": {
      "text/plain": [
       "16867.5"
      ]
     },
     "execution_count": 15,
     "metadata": {},
     "output_type": "execute_result"
    }
   ],
   "source": [
    "industrial_df[\"consumption_gj\"].median()"
   ]
  },
  {
   "cell_type": "code",
   "execution_count": 16,
   "metadata": {},
   "outputs": [
    {
     "data": {
      "text/html": [
       "<div>\n",
       "<style scoped>\n",
       "    .dataframe tbody tr th:only-of-type {\n",
       "        vertical-align: middle;\n",
       "    }\n",
       "\n",
       "    .dataframe tbody tr th {\n",
       "        vertical-align: top;\n",
       "    }\n",
       "\n",
       "    .dataframe thead th {\n",
       "        text-align: right;\n",
       "    }\n",
       "</style>\n",
       "<table border=\"1\" class=\"dataframe\">\n",
       "  <thead>\n",
       "    <tr style=\"text-align: right;\">\n",
       "      <th></th>\n",
       "      <th>zip</th>\n",
       "      <th>building_type</th>\n",
       "      <th>consumption_therms</th>\n",
       "      <th>consumption_gj</th>\n",
       "      <th>utility_reporter</th>\n",
       "    </tr>\n",
       "  </thead>\n",
       "  <tbody>\n",
       "    <tr>\n",
       "      <th>59</th>\n",
       "      <td>10003(40.731943947555, -73.98887214913)</td>\n",
       "      <td>Residential</td>\n",
       "      <td>3229606.0</td>\n",
       "      <td>340742.0</td>\n",
       "      <td>ConEd</td>\n",
       "    </tr>\n",
       "    <tr>\n",
       "      <th>62</th>\n",
       "      <td>10468(40.869693003729, -73.898926992487)</td>\n",
       "      <td>Residential</td>\n",
       "      <td>907812.0</td>\n",
       "      <td>95779.0</td>\n",
       "      <td>ConEd</td>\n",
       "    </tr>\n",
       "    <tr>\n",
       "      <th>68</th>\n",
       "      <td>10034(40.870617109292, -73.924223258796)</td>\n",
       "      <td>Residential</td>\n",
       "      <td>226754.0</td>\n",
       "      <td>23924.0</td>\n",
       "      <td>ConEd</td>\n",
       "    </tr>\n",
       "    <tr>\n",
       "      <th>70</th>\n",
       "      <td>10044(40.761976486226, -73.949999674945)</td>\n",
       "      <td>Residential</td>\n",
       "      <td>93171.0</td>\n",
       "      <td>9830.0</td>\n",
       "      <td>ConEd</td>\n",
       "    </tr>\n",
       "    <tr>\n",
       "      <th>72</th>\n",
       "      <td>11358(40.760350968822, -73.796326458199)</td>\n",
       "      <td>Residential</td>\n",
       "      <td>405678.0</td>\n",
       "      <td>42801.0</td>\n",
       "      <td>ConEd</td>\n",
       "    </tr>\n",
       "  </tbody>\n",
       "</table>\n",
       "</div>"
      ],
      "text/plain": [
       "                                         zip building_type  \\\n",
       "59   10003(40.731943947555, -73.98887214913)   Residential   \n",
       "62  10468(40.869693003729, -73.898926992487)   Residential   \n",
       "68  10034(40.870617109292, -73.924223258796)   Residential   \n",
       "70  10044(40.761976486226, -73.949999674945)   Residential   \n",
       "72  11358(40.760350968822, -73.796326458199)   Residential   \n",
       "\n",
       "    consumption_therms  consumption_gj utility_reporter  \n",
       "59           3229606.0        340742.0            ConEd  \n",
       "62            907812.0         95779.0            ConEd  \n",
       "68            226754.0         23924.0            ConEd  \n",
       "70             93171.0          9830.0            ConEd  \n",
       "72            405678.0         42801.0            ConEd  "
      ]
     },
     "execution_count": 16,
     "metadata": {},
     "output_type": "execute_result"
    }
   ],
   "source": [
    "residential_df = nyc_gas[nyc_gas[\"building_type\"] == \"Residential\"]\n",
    "residential_df.head()"
   ]
  },
  {
   "cell_type": "code",
   "execution_count": 17,
   "metadata": {},
   "outputs": [
    {
     "data": {
      "text/plain": [
       "53288.5"
      ]
     },
     "execution_count": 17,
     "metadata": {},
     "output_type": "execute_result"
    }
   ],
   "source": [
    "residential_df[\"consumption_gj\"].median()"
   ]
  },
  {
   "cell_type": "code",
   "execution_count": 18,
   "metadata": {},
   "outputs": [
    {
     "data": {
      "text/html": [
       "<div>\n",
       "<style scoped>\n",
       "    .dataframe tbody tr th:only-of-type {\n",
       "        vertical-align: middle;\n",
       "    }\n",
       "\n",
       "    .dataframe tbody tr th {\n",
       "        vertical-align: top;\n",
       "    }\n",
       "\n",
       "    .dataframe thead th {\n",
       "        text-align: right;\n",
       "    }\n",
       "</style>\n",
       "<table border=\"1\" class=\"dataframe\">\n",
       "  <thead>\n",
       "    <tr style=\"text-align: right;\">\n",
       "      <th></th>\n",
       "      <th>zip</th>\n",
       "      <th>building_type</th>\n",
       "      <th>consumption_therms</th>\n",
       "      <th>consumption_gj</th>\n",
       "      <th>utility_reporter</th>\n",
       "    </tr>\n",
       "  </thead>\n",
       "  <tbody>\n",
       "    <tr>\n",
       "      <th>2</th>\n",
       "      <td>10360</td>\n",
       "      <td>Large residential</td>\n",
       "      <td>33762.0</td>\n",
       "      <td>3562.0</td>\n",
       "      <td>National Grid</td>\n",
       "    </tr>\n",
       "    <tr>\n",
       "      <th>9</th>\n",
       "      <td>11279</td>\n",
       "      <td>Large residential</td>\n",
       "      <td>301.0</td>\n",
       "      <td>32.0</td>\n",
       "      <td>National Grid</td>\n",
       "    </tr>\n",
       "    <tr>\n",
       "      <th>16</th>\n",
       "      <td>11315</td>\n",
       "      <td>Large residential</td>\n",
       "      <td>335091.0</td>\n",
       "      <td>35354.0</td>\n",
       "      <td>National Grid</td>\n",
       "    </tr>\n",
       "    <tr>\n",
       "      <th>20</th>\n",
       "      <td>11335</td>\n",
       "      <td>Large residential</td>\n",
       "      <td>NaN</td>\n",
       "      <td>NaN</td>\n",
       "      <td>National Grid</td>\n",
       "    </tr>\n",
       "    <tr>\n",
       "      <th>28</th>\n",
       "      <td>11400</td>\n",
       "      <td>Large residential</td>\n",
       "      <td>280.0</td>\n",
       "      <td>30.0</td>\n",
       "      <td>National Grid</td>\n",
       "    </tr>\n",
       "    <tr>\n",
       "      <th>43</th>\n",
       "      <td>11474</td>\n",
       "      <td>Large residential</td>\n",
       "      <td>2223970.0</td>\n",
       "      <td>234641.0</td>\n",
       "      <td>National Grid</td>\n",
       "    </tr>\n",
       "    <tr>\n",
       "      <th>46</th>\n",
       "      <td>11477</td>\n",
       "      <td>Large residential</td>\n",
       "      <td>493904.0</td>\n",
       "      <td>52110.0</td>\n",
       "      <td>National Grid</td>\n",
       "    </tr>\n",
       "    <tr>\n",
       "      <th>56</th>\n",
       "      <td>10467(40.877047912132, -73.871532500824)</td>\n",
       "      <td>Large Residential</td>\n",
       "      <td>4811979.0</td>\n",
       "      <td>507691.0</td>\n",
       "      <td>ConEd</td>\n",
       "    </tr>\n",
       "    <tr>\n",
       "      <th>71</th>\n",
       "      <td>10010(40.739140782121, -73.982898456399)</td>\n",
       "      <td>Large Residential</td>\n",
       "      <td>212584.0</td>\n",
       "      <td>22429.0</td>\n",
       "      <td>ConEd</td>\n",
       "    </tr>\n",
       "    <tr>\n",
       "      <th>76</th>\n",
       "      <td>11220(40.641184928741, -74.016764726711)</td>\n",
       "      <td>Large residential</td>\n",
       "      <td>6756193.0</td>\n",
       "      <td>712816.0</td>\n",
       "      <td>National Grid</td>\n",
       "    </tr>\n",
       "  </tbody>\n",
       "</table>\n",
       "</div>"
      ],
      "text/plain": [
       "                                         zip      building_type  \\\n",
       "2                                      10360  Large residential   \n",
       "9                                      11279  Large residential   \n",
       "16                                     11315  Large residential   \n",
       "20                                     11335  Large residential   \n",
       "28                                     11400  Large residential   \n",
       "43                                     11474  Large residential   \n",
       "46                                     11477  Large residential   \n",
       "56  10467(40.877047912132, -73.871532500824)  Large Residential   \n",
       "71  10010(40.739140782121, -73.982898456399)  Large Residential   \n",
       "76  11220(40.641184928741, -74.016764726711)  Large residential   \n",
       "\n",
       "    consumption_therms  consumption_gj utility_reporter  \n",
       "2              33762.0          3562.0    National Grid  \n",
       "9                301.0            32.0    National Grid  \n",
       "16            335091.0         35354.0    National Grid  \n",
       "20                 NaN             NaN    National Grid  \n",
       "28               280.0            30.0    National Grid  \n",
       "43           2223970.0        234641.0    National Grid  \n",
       "46            493904.0         52110.0    National Grid  \n",
       "56           4811979.0        507691.0            ConEd  \n",
       "71            212584.0         22429.0            ConEd  \n",
       "76           6756193.0        712816.0    National Grid  "
      ]
     },
     "execution_count": 18,
     "metadata": {},
     "output_type": "execute_result"
    }
   ],
   "source": [
    "large_residential_df = nyc_gas[nyc_gas[\"building_type\"].isin([\"Large Residential\", \"Large residential\"])]\n",
    "large_residential_df.head(10)"
   ]
  },
  {
   "cell_type": "code",
   "execution_count": 19,
   "metadata": {},
   "outputs": [
    {
     "data": {
      "text/plain": [
       "160960.0"
      ]
     },
     "execution_count": 19,
     "metadata": {},
     "output_type": "execute_result"
    }
   ],
   "source": [
    "large_residential_df[\"consumption_gj\"].median()"
   ]
  },
  {
   "cell_type": "markdown",
   "metadata": {},
   "source": [
    "It looks as though the \"industrial\" building type has the lowest median consumption. Next, we should understand more about building classifications before we proceed much further in our energy consumption analysis. The highest median consumption belongs to \"small residential\" building types."
   ]
  },
  {
   "cell_type": "markdown",
   "metadata": {},
   "source": [
    "## Utility Reporters\n",
    "\n",
    "Again, we have a few questions to answer here:\n",
    "\n",
    "* How many utility data reporters are included?\n",
    "* What's the mean and standard deviation of their energy consumption (in GJ)?\n",
    "* How do the different utility types compare?\n",
    "\n",
    "I'm going to do a similar method to what I did with building types."
   ]
  },
  {
   "cell_type": "code",
   "execution_count": 20,
   "metadata": {},
   "outputs": [
    {
     "data": {
      "text/plain": [
       "array(['National Grid', 'ConEd'], dtype=object)"
      ]
     },
     "execution_count": 20,
     "metadata": {},
     "output_type": "execute_result"
    }
   ],
   "source": [
    "nyc_gas['utility_reporter'].unique()"
   ]
  },
  {
   "cell_type": "markdown",
   "metadata": {},
   "source": [
    "Great, only two possibilities here! I'll make two data frames, as always, peeking in a bit to make sure what I'm doing makes sense."
   ]
  },
  {
   "cell_type": "code",
   "execution_count": 21,
   "metadata": {},
   "outputs": [
    {
     "data": {
      "text/html": [
       "<div>\n",
       "<style scoped>\n",
       "    .dataframe tbody tr th:only-of-type {\n",
       "        vertical-align: middle;\n",
       "    }\n",
       "\n",
       "    .dataframe tbody tr th {\n",
       "        vertical-align: top;\n",
       "    }\n",
       "\n",
       "    .dataframe thead th {\n",
       "        text-align: right;\n",
       "    }\n",
       "</style>\n",
       "<table border=\"1\" class=\"dataframe\">\n",
       "  <thead>\n",
       "    <tr style=\"text-align: right;\">\n",
       "      <th></th>\n",
       "      <th>zip</th>\n",
       "      <th>building_type</th>\n",
       "      <th>consumption_therms</th>\n",
       "      <th>consumption_gj</th>\n",
       "      <th>utility_reporter</th>\n",
       "    </tr>\n",
       "  </thead>\n",
       "  <tbody>\n",
       "    <tr>\n",
       "      <th>0</th>\n",
       "      <td>10300</td>\n",
       "      <td>Commercial</td>\n",
       "      <td>470.0</td>\n",
       "      <td>50.0</td>\n",
       "      <td>National Grid</td>\n",
       "    </tr>\n",
       "    <tr>\n",
       "      <th>1</th>\n",
       "      <td>10335</td>\n",
       "      <td>Commercial</td>\n",
       "      <td>647.0</td>\n",
       "      <td>68.0</td>\n",
       "      <td>National Grid</td>\n",
       "    </tr>\n",
       "    <tr>\n",
       "      <th>2</th>\n",
       "      <td>10360</td>\n",
       "      <td>Large residential</td>\n",
       "      <td>33762.0</td>\n",
       "      <td>3562.0</td>\n",
       "      <td>National Grid</td>\n",
       "    </tr>\n",
       "    <tr>\n",
       "      <th>3</th>\n",
       "      <td>11200</td>\n",
       "      <td>Commercial</td>\n",
       "      <td>32125.0</td>\n",
       "      <td>3389.0</td>\n",
       "      <td>National Grid</td>\n",
       "    </tr>\n",
       "    <tr>\n",
       "      <th>4</th>\n",
       "      <td>11200</td>\n",
       "      <td>Institutional</td>\n",
       "      <td>3605.0</td>\n",
       "      <td>380.0</td>\n",
       "      <td>National Grid</td>\n",
       "    </tr>\n",
       "  </tbody>\n",
       "</table>\n",
       "</div>"
      ],
      "text/plain": [
       "     zip      building_type  consumption_therms  consumption_gj  \\\n",
       "0  10300         Commercial               470.0            50.0   \n",
       "1  10335         Commercial               647.0            68.0   \n",
       "2  10360  Large residential             33762.0          3562.0   \n",
       "3  11200         Commercial             32125.0          3389.0   \n",
       "4  11200      Institutional              3605.0           380.0   \n",
       "\n",
       "  utility_reporter  \n",
       "0    National Grid  \n",
       "1    National Grid  \n",
       "2    National Grid  \n",
       "3    National Grid  \n",
       "4    National Grid  "
      ]
     },
     "execution_count": 21,
     "metadata": {},
     "output_type": "execute_result"
    }
   ],
   "source": [
    "national_grid = nyc_gas[nyc_gas['utility_reporter'] == \"National Grid\"]\n",
    "national_grid.head()"
   ]
  },
  {
   "cell_type": "code",
   "execution_count": 22,
   "metadata": {},
   "outputs": [
    {
     "data": {
      "text/plain": [
       "357475.56048387097"
      ]
     },
     "execution_count": 22,
     "metadata": {},
     "output_type": "execute_result"
    }
   ],
   "source": [
    "national_grid['consumption_gj'].mean()"
   ]
  },
  {
   "cell_type": "code",
   "execution_count": 23,
   "metadata": {},
   "outputs": [
    {
     "data": {
      "text/plain": [
       "562355.2736235436"
      ]
     },
     "execution_count": 23,
     "metadata": {},
     "output_type": "execute_result"
    }
   ],
   "source": [
    "national_grid['consumption_gj'].std()"
   ]
  },
  {
   "cell_type": "code",
   "execution_count": 24,
   "metadata": {},
   "outputs": [
    {
     "data": {
      "text/html": [
       "<div>\n",
       "<style scoped>\n",
       "    .dataframe tbody tr th:only-of-type {\n",
       "        vertical-align: middle;\n",
       "    }\n",
       "\n",
       "    .dataframe tbody tr th {\n",
       "        vertical-align: top;\n",
       "    }\n",
       "\n",
       "    .dataframe thead th {\n",
       "        text-align: right;\n",
       "    }\n",
       "</style>\n",
       "<table border=\"1\" class=\"dataframe\">\n",
       "  <thead>\n",
       "    <tr style=\"text-align: right;\">\n",
       "      <th></th>\n",
       "      <th>zip</th>\n",
       "      <th>building_type</th>\n",
       "      <th>consumption_therms</th>\n",
       "      <th>consumption_gj</th>\n",
       "      <th>utility_reporter</th>\n",
       "    </tr>\n",
       "  </thead>\n",
       "  <tbody>\n",
       "    <tr>\n",
       "      <th>51</th>\n",
       "      <td>11109(40.744414792409, -73.957702346686)</td>\n",
       "      <td>Commercial</td>\n",
       "      <td>45899.0</td>\n",
       "      <td>4843.0</td>\n",
       "      <td>ConEd</td>\n",
       "    </tr>\n",
       "    <tr>\n",
       "      <th>52</th>\n",
       "      <td>11429(40.709913120494, -73.738640316098)</td>\n",
       "      <td>Commercial</td>\n",
       "      <td>755.0</td>\n",
       "      <td>80.0</td>\n",
       "      <td>ConEd</td>\n",
       "    </tr>\n",
       "    <tr>\n",
       "      <th>56</th>\n",
       "      <td>10467(40.877047912132, -73.871532500824)</td>\n",
       "      <td>Large Residential</td>\n",
       "      <td>4811979.0</td>\n",
       "      <td>507691.0</td>\n",
       "      <td>ConEd</td>\n",
       "    </tr>\n",
       "    <tr>\n",
       "      <th>59</th>\n",
       "      <td>10003(40.731943947555, -73.98887214913)</td>\n",
       "      <td>Residential</td>\n",
       "      <td>3229606.0</td>\n",
       "      <td>340742.0</td>\n",
       "      <td>ConEd</td>\n",
       "    </tr>\n",
       "    <tr>\n",
       "      <th>61</th>\n",
       "      <td>10451(40.820696407114, -73.923841367985)</td>\n",
       "      <td>Commercial</td>\n",
       "      <td>8071587.0</td>\n",
       "      <td>851598.0</td>\n",
       "      <td>ConEd</td>\n",
       "    </tr>\n",
       "  </tbody>\n",
       "</table>\n",
       "</div>"
      ],
      "text/plain": [
       "                                         zip      building_type  \\\n",
       "51  11109(40.744414792409, -73.957702346686)         Commercial   \n",
       "52  11429(40.709913120494, -73.738640316098)         Commercial   \n",
       "56  10467(40.877047912132, -73.871532500824)  Large Residential   \n",
       "59   10003(40.731943947555, -73.98887214913)        Residential   \n",
       "61  10451(40.820696407114, -73.923841367985)         Commercial   \n",
       "\n",
       "    consumption_therms  consumption_gj utility_reporter  \n",
       "51             45899.0          4843.0            ConEd  \n",
       "52               755.0            80.0            ConEd  \n",
       "56           4811979.0        507691.0            ConEd  \n",
       "59           3229606.0        340742.0            ConEd  \n",
       "61           8071587.0        851598.0            ConEd  "
      ]
     },
     "execution_count": 24,
     "metadata": {},
     "output_type": "execute_result"
    }
   ],
   "source": [
    "coned = nyc_gas[nyc_gas['utility_reporter'] == \"ConEd\"]\n",
    "coned.head()"
   ]
  },
  {
   "cell_type": "code",
   "execution_count": 25,
   "metadata": {},
   "outputs": [
    {
     "data": {
      "text/plain": [
       "224575.75049115912"
      ]
     },
     "execution_count": 25,
     "metadata": {},
     "output_type": "execute_result"
    }
   ],
   "source": [
    "coned['consumption_gj'].mean()"
   ]
  },
  {
   "cell_type": "code",
   "execution_count": 26,
   "metadata": {},
   "outputs": [
    {
     "data": {
      "text/plain": [
       "298958.0488076621"
      ]
     },
     "execution_count": 26,
     "metadata": {},
     "output_type": "execute_result"
    }
   ],
   "source": [
    "coned['consumption_gj'].std()"
   ]
  },
  {
   "cell_type": "markdown",
   "metadata": {},
   "source": [
    "I noticed that some of the zip codes are listed with longitude and latitude information. It would be better to drop that information. "
   ]
  },
  {
   "cell_type": "markdown",
   "metadata": {},
   "source": [
    "## Thank you for reading!"
   ]
  }
 ],
 "metadata": {
  "kernelspec": {
   "display_name": "Python 3",
   "language": "python",
   "name": "python3"
  },
  "language_info": {
   "codemirror_mode": {
    "name": "ipython",
    "version": 3
   },
   "file_extension": ".py",
   "mimetype": "text/x-python",
   "name": "python",
   "nbconvert_exporter": "python",
   "pygments_lexer": "ipython3",
   "version": "3.7.3"
  }
 },
 "nbformat": 4,
 "nbformat_minor": 2
}
